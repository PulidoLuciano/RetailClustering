{
 "cells": [
  {
   "cell_type": "markdown",
   "metadata": {},
   "source": [
    "# Primer analisis de datos exploratorio de Online Retail"
   ]
  },
  {
   "cell_type": "markdown",
   "metadata": {},
   "source": [
    "En esta notebook se realiza el analisis exploratorio de los datos crudos del dataset de Online Retail. Este dataset contiene los datos de transacciones realizadas en una tienda de retail online britanica sin tienda fisica. \n",
    "\n",
    "Segun la pagina del dataset: \"Este es un conjunto de datos transaccionales que contiene todas las transacciones que ocurrieron entre el 12/01/2010 y el 12/09/2011 para una tienda minorista en línea no registrada y con sede en el Reino Unido. La empresa vende principalmente regalos únicos para todas las ocasiones.\""
   ]
  },
  {
   "cell_type": "markdown",
   "metadata": {},
   "source": [
    "El objetivo del trabajo es utilizar Clustering con diferentes algoritmos para hacer una analisis de clientes del tipo RFM (Recency, Frequency, Monetary). Luego se deben proponer acciones de marketing personalizadas para al menos tres grupos diferentes."
   ]
  },
  {
   "cell_type": "markdown",
   "metadata": {},
   "source": [
    "Vamos a comenzar entonces visualizando algunas instancias del dataset."
   ]
  },
  {
   "cell_type": "code",
   "execution_count": 2,
   "metadata": {},
   "outputs": [
    {
     "data": {
      "text/html": [
       "<div>\n",
       "<style scoped>\n",
       "    .dataframe tbody tr th:only-of-type {\n",
       "        vertical-align: middle;\n",
       "    }\n",
       "\n",
       "    .dataframe tbody tr th {\n",
       "        vertical-align: top;\n",
       "    }\n",
       "\n",
       "    .dataframe thead th {\n",
       "        text-align: right;\n",
       "    }\n",
       "</style>\n",
       "<table border=\"1\" class=\"dataframe\">\n",
       "  <thead>\n",
       "    <tr style=\"text-align: right;\">\n",
       "      <th></th>\n",
       "      <th>InvoiceNo</th>\n",
       "      <th>StockCode</th>\n",
       "      <th>Description</th>\n",
       "      <th>Quantity</th>\n",
       "      <th>InvoiceDate</th>\n",
       "      <th>UnitPrice</th>\n",
       "      <th>CustomerID</th>\n",
       "      <th>Country</th>\n",
       "    </tr>\n",
       "  </thead>\n",
       "  <tbody>\n",
       "    <tr>\n",
       "      <th>0</th>\n",
       "      <td>536365</td>\n",
       "      <td>85123A</td>\n",
       "      <td>WHITE HANGING HEART T-LIGHT HOLDER</td>\n",
       "      <td>6</td>\n",
       "      <td>2010-12-01 08:26:00</td>\n",
       "      <td>2.55</td>\n",
       "      <td>17850.0</td>\n",
       "      <td>United Kingdom</td>\n",
       "    </tr>\n",
       "    <tr>\n",
       "      <th>1</th>\n",
       "      <td>536365</td>\n",
       "      <td>71053</td>\n",
       "      <td>WHITE METAL LANTERN</td>\n",
       "      <td>6</td>\n",
       "      <td>2010-12-01 08:26:00</td>\n",
       "      <td>3.39</td>\n",
       "      <td>17850.0</td>\n",
       "      <td>United Kingdom</td>\n",
       "    </tr>\n",
       "    <tr>\n",
       "      <th>2</th>\n",
       "      <td>536365</td>\n",
       "      <td>84406B</td>\n",
       "      <td>CREAM CUPID HEARTS COAT HANGER</td>\n",
       "      <td>8</td>\n",
       "      <td>2010-12-01 08:26:00</td>\n",
       "      <td>2.75</td>\n",
       "      <td>17850.0</td>\n",
       "      <td>United Kingdom</td>\n",
       "    </tr>\n",
       "    <tr>\n",
       "      <th>3</th>\n",
       "      <td>536365</td>\n",
       "      <td>84029G</td>\n",
       "      <td>KNITTED UNION FLAG HOT WATER BOTTLE</td>\n",
       "      <td>6</td>\n",
       "      <td>2010-12-01 08:26:00</td>\n",
       "      <td>3.39</td>\n",
       "      <td>17850.0</td>\n",
       "      <td>United Kingdom</td>\n",
       "    </tr>\n",
       "    <tr>\n",
       "      <th>4</th>\n",
       "      <td>536365</td>\n",
       "      <td>84029E</td>\n",
       "      <td>RED WOOLLY HOTTIE WHITE HEART.</td>\n",
       "      <td>6</td>\n",
       "      <td>2010-12-01 08:26:00</td>\n",
       "      <td>3.39</td>\n",
       "      <td>17850.0</td>\n",
       "      <td>United Kingdom</td>\n",
       "    </tr>\n",
       "  </tbody>\n",
       "</table>\n",
       "</div>"
      ],
      "text/plain": [
       "  InvoiceNo StockCode                          Description  Quantity  \\\n",
       "0    536365    85123A   WHITE HANGING HEART T-LIGHT HOLDER         6   \n",
       "1    536365     71053                  WHITE METAL LANTERN         6   \n",
       "2    536365    84406B       CREAM CUPID HEARTS COAT HANGER         8   \n",
       "3    536365    84029G  KNITTED UNION FLAG HOT WATER BOTTLE         6   \n",
       "4    536365    84029E       RED WOOLLY HOTTIE WHITE HEART.         6   \n",
       "\n",
       "          InvoiceDate  UnitPrice  CustomerID         Country  \n",
       "0 2010-12-01 08:26:00       2.55     17850.0  United Kingdom  \n",
       "1 2010-12-01 08:26:00       3.39     17850.0  United Kingdom  \n",
       "2 2010-12-01 08:26:00       2.75     17850.0  United Kingdom  \n",
       "3 2010-12-01 08:26:00       3.39     17850.0  United Kingdom  \n",
       "4 2010-12-01 08:26:00       3.39     17850.0  United Kingdom  "
      ]
     },
     "execution_count": 2,
     "metadata": {},
     "output_type": "execute_result"
    }
   ],
   "source": [
    "import pandas as pd\n",
    "raw_retail_df = pd.read_excel('../../data/raw_online_retail.xlsx')\n",
    "raw_retail_df.head()"
   ]
  },
  {
   "cell_type": "markdown",
   "metadata": {},
   "source": [
    "El dataset cuenta con 8 features que se describen de la siguiente manera:\n",
    "\n",
    "- InvoiceNo: Invoice number. Nominal, a 6-digit integral number uniquely assigned to each transaction. If this code starts with letter 'c', it indicates a cancellation. \n",
    "- StockCode: Product (item) code. Nominal, a 5-digit integral number uniquely assigned to each distinct product.\n",
    "- Description: Product (item) name. Nominal.\n",
    "- Quantity: The quantities of each product (item) per transaction. Numeric.\t\n",
    "- InvoiceDate: Invoice Date and time. Numeric, the day and time when each transaction was generated.\n",
    "- UnitPrice: Unit price. Numeric, Product price per unit in sterling.\n",
    "- CustomerID: Customer number. Nominal, a 5-digit integral number uniquely assigned to each customer.\n",
    "- Country: Country name. Nominal, the name of the country where each customer resides."
   ]
  },
  {
   "cell_type": "markdown",
   "metadata": {},
   "source": [
    "Vamos a verificar los tipos de datos para las columnas."
   ]
  },
  {
   "cell_type": "code",
   "execution_count": 3,
   "metadata": {},
   "outputs": [
    {
     "name": "stdout",
     "output_type": "stream",
     "text": [
      "<class 'pandas.core.frame.DataFrame'>\n",
      "RangeIndex: 541909 entries, 0 to 541908\n",
      "Data columns (total 8 columns):\n",
      " #   Column       Non-Null Count   Dtype         \n",
      "---  ------       --------------   -----         \n",
      " 0   InvoiceNo    541909 non-null  object        \n",
      " 1   StockCode    541909 non-null  object        \n",
      " 2   Description  540455 non-null  object        \n",
      " 3   Quantity     541909 non-null  int64         \n",
      " 4   InvoiceDate  541909 non-null  datetime64[ns]\n",
      " 5   UnitPrice    541909 non-null  float64       \n",
      " 6   CustomerID   406829 non-null  float64       \n",
      " 7   Country      541909 non-null  object        \n",
      "dtypes: datetime64[ns](1), float64(2), int64(1), object(4)\n",
      "memory usage: 33.1+ MB\n"
     ]
    }
   ],
   "source": [
    "raw_retail_df.info()"
   ]
  },
  {
   "cell_type": "markdown",
   "metadata": {},
   "source": [
    "Vamos a verificar que no existan valores nulos en algunas de estas entradas."
   ]
  },
  {
   "cell_type": "code",
   "execution_count": 4,
   "metadata": {},
   "outputs": [
    {
     "data": {
      "text/plain": [
       "InvoiceNo           0\n",
       "StockCode           0\n",
       "Description      1454\n",
       "Quantity            0\n",
       "InvoiceDate         0\n",
       "UnitPrice           0\n",
       "CustomerID     135080\n",
       "Country             0\n",
       "dtype: int64"
      ]
     },
     "execution_count": 4,
     "metadata": {},
     "output_type": "execute_result"
    }
   ],
   "source": [
    "raw_retail_df.isnull().sum()"
   ]
  },
  {
   "cell_type": "markdown",
   "metadata": {},
   "source": [
    "Hay una gran cantidad de transacciones que no cuentan con el ID del cliente que las realiza. Esto claramente es un problema porque justamente estamos analizando el RFM de los clientes. Veamos algunas instancias de estas transacciones sin cliente."
   ]
  },
  {
   "cell_type": "code",
   "execution_count": 5,
   "metadata": {},
   "outputs": [
    {
     "name": "stdout",
     "output_type": "stream",
     "text": [
      "Shape de transacciones sin CustomerID: (135080, 8)\n",
      "Cantidad de transacciones sin CustomerID: 135080\n",
      "Shape de transacciones con CustomerID: (406829, 8)\n",
      "Cantidad de transacciones con CustomerID: 406829\n"
     ]
    },
    {
     "data": {
      "text/html": [
       "<div>\n",
       "<style scoped>\n",
       "    .dataframe tbody tr th:only-of-type {\n",
       "        vertical-align: middle;\n",
       "    }\n",
       "\n",
       "    .dataframe tbody tr th {\n",
       "        vertical-align: top;\n",
       "    }\n",
       "\n",
       "    .dataframe thead th {\n",
       "        text-align: right;\n",
       "    }\n",
       "</style>\n",
       "<table border=\"1\" class=\"dataframe\">\n",
       "  <thead>\n",
       "    <tr style=\"text-align: right;\">\n",
       "      <th></th>\n",
       "      <th>InvoiceNo</th>\n",
       "      <th>StockCode</th>\n",
       "      <th>Description</th>\n",
       "      <th>Quantity</th>\n",
       "      <th>InvoiceDate</th>\n",
       "      <th>UnitPrice</th>\n",
       "      <th>CustomerID</th>\n",
       "      <th>Country</th>\n",
       "    </tr>\n",
       "  </thead>\n",
       "  <tbody>\n",
       "    <tr>\n",
       "      <th>622</th>\n",
       "      <td>536414</td>\n",
       "      <td>22139</td>\n",
       "      <td>NaN</td>\n",
       "      <td>56</td>\n",
       "      <td>2010-12-01 11:52:00</td>\n",
       "      <td>0.00</td>\n",
       "      <td>NaN</td>\n",
       "      <td>United Kingdom</td>\n",
       "    </tr>\n",
       "    <tr>\n",
       "      <th>1443</th>\n",
       "      <td>536544</td>\n",
       "      <td>21773</td>\n",
       "      <td>DECORATIVE ROSE BATHROOM BOTTLE</td>\n",
       "      <td>1</td>\n",
       "      <td>2010-12-01 14:32:00</td>\n",
       "      <td>2.51</td>\n",
       "      <td>NaN</td>\n",
       "      <td>United Kingdom</td>\n",
       "    </tr>\n",
       "    <tr>\n",
       "      <th>1444</th>\n",
       "      <td>536544</td>\n",
       "      <td>21774</td>\n",
       "      <td>DECORATIVE CATS BATHROOM BOTTLE</td>\n",
       "      <td>2</td>\n",
       "      <td>2010-12-01 14:32:00</td>\n",
       "      <td>2.51</td>\n",
       "      <td>NaN</td>\n",
       "      <td>United Kingdom</td>\n",
       "    </tr>\n",
       "    <tr>\n",
       "      <th>1445</th>\n",
       "      <td>536544</td>\n",
       "      <td>21786</td>\n",
       "      <td>POLKADOT RAIN HAT</td>\n",
       "      <td>4</td>\n",
       "      <td>2010-12-01 14:32:00</td>\n",
       "      <td>0.85</td>\n",
       "      <td>NaN</td>\n",
       "      <td>United Kingdom</td>\n",
       "    </tr>\n",
       "    <tr>\n",
       "      <th>1446</th>\n",
       "      <td>536544</td>\n",
       "      <td>21787</td>\n",
       "      <td>RAIN PONCHO RETROSPOT</td>\n",
       "      <td>2</td>\n",
       "      <td>2010-12-01 14:32:00</td>\n",
       "      <td>1.66</td>\n",
       "      <td>NaN</td>\n",
       "      <td>United Kingdom</td>\n",
       "    </tr>\n",
       "    <tr>\n",
       "      <th>1447</th>\n",
       "      <td>536544</td>\n",
       "      <td>21790</td>\n",
       "      <td>VINTAGE SNAP CARDS</td>\n",
       "      <td>9</td>\n",
       "      <td>2010-12-01 14:32:00</td>\n",
       "      <td>1.66</td>\n",
       "      <td>NaN</td>\n",
       "      <td>United Kingdom</td>\n",
       "    </tr>\n",
       "    <tr>\n",
       "      <th>1448</th>\n",
       "      <td>536544</td>\n",
       "      <td>21791</td>\n",
       "      <td>VINTAGE HEADS AND TAILS CARD GAME</td>\n",
       "      <td>2</td>\n",
       "      <td>2010-12-01 14:32:00</td>\n",
       "      <td>2.51</td>\n",
       "      <td>NaN</td>\n",
       "      <td>United Kingdom</td>\n",
       "    </tr>\n",
       "    <tr>\n",
       "      <th>1449</th>\n",
       "      <td>536544</td>\n",
       "      <td>21801</td>\n",
       "      <td>CHRISTMAS TREE DECORATION WITH BELL</td>\n",
       "      <td>10</td>\n",
       "      <td>2010-12-01 14:32:00</td>\n",
       "      <td>0.43</td>\n",
       "      <td>NaN</td>\n",
       "      <td>United Kingdom</td>\n",
       "    </tr>\n",
       "    <tr>\n",
       "      <th>1450</th>\n",
       "      <td>536544</td>\n",
       "      <td>21802</td>\n",
       "      <td>CHRISTMAS TREE HEART DECORATION</td>\n",
       "      <td>9</td>\n",
       "      <td>2010-12-01 14:32:00</td>\n",
       "      <td>0.43</td>\n",
       "      <td>NaN</td>\n",
       "      <td>United Kingdom</td>\n",
       "    </tr>\n",
       "    <tr>\n",
       "      <th>1451</th>\n",
       "      <td>536544</td>\n",
       "      <td>21803</td>\n",
       "      <td>CHRISTMAS TREE STAR DECORATION</td>\n",
       "      <td>11</td>\n",
       "      <td>2010-12-01 14:32:00</td>\n",
       "      <td>0.43</td>\n",
       "      <td>NaN</td>\n",
       "      <td>United Kingdom</td>\n",
       "    </tr>\n",
       "  </tbody>\n",
       "</table>\n",
       "</div>"
      ],
      "text/plain": [
       "     InvoiceNo StockCode                          Description  Quantity  \\\n",
       "622     536414     22139                                  NaN        56   \n",
       "1443    536544     21773      DECORATIVE ROSE BATHROOM BOTTLE         1   \n",
       "1444    536544     21774      DECORATIVE CATS BATHROOM BOTTLE         2   \n",
       "1445    536544     21786                   POLKADOT RAIN HAT          4   \n",
       "1446    536544     21787                RAIN PONCHO RETROSPOT         2   \n",
       "1447    536544     21790                   VINTAGE SNAP CARDS         9   \n",
       "1448    536544     21791   VINTAGE HEADS AND TAILS CARD GAME          2   \n",
       "1449    536544     21801  CHRISTMAS TREE DECORATION WITH BELL        10   \n",
       "1450    536544     21802      CHRISTMAS TREE HEART DECORATION         9   \n",
       "1451    536544     21803       CHRISTMAS TREE STAR DECORATION        11   \n",
       "\n",
       "             InvoiceDate  UnitPrice  CustomerID         Country  \n",
       "622  2010-12-01 11:52:00       0.00         NaN  United Kingdom  \n",
       "1443 2010-12-01 14:32:00       2.51         NaN  United Kingdom  \n",
       "1444 2010-12-01 14:32:00       2.51         NaN  United Kingdom  \n",
       "1445 2010-12-01 14:32:00       0.85         NaN  United Kingdom  \n",
       "1446 2010-12-01 14:32:00       1.66         NaN  United Kingdom  \n",
       "1447 2010-12-01 14:32:00       1.66         NaN  United Kingdom  \n",
       "1448 2010-12-01 14:32:00       2.51         NaN  United Kingdom  \n",
       "1449 2010-12-01 14:32:00       0.43         NaN  United Kingdom  \n",
       "1450 2010-12-01 14:32:00       0.43         NaN  United Kingdom  \n",
       "1451 2010-12-01 14:32:00       0.43         NaN  United Kingdom  "
      ]
     },
     "execution_count": 5,
     "metadata": {},
     "output_type": "execute_result"
    }
   ],
   "source": [
    "retail_df = raw_retail_df[raw_retail_df['CustomerID'].notnull()].copy()\n",
    "null_client_df = raw_retail_df[raw_retail_df['CustomerID'].isnull()].copy()\n",
    "print(f'Shape de transacciones sin CustomerID: {null_client_df.shape}')\n",
    "print(f\"Cantidad de transacciones sin CustomerID: {null_client_df['CustomerID'].isnull().sum()}\")\n",
    "print(f'Shape de transacciones con CustomerID: {retail_df.shape}')\n",
    "print(f\"Cantidad de transacciones con CustomerID: {retail_df['CustomerID'].notnull().sum()}\")\n",
    "null_client_df.head(10)"
   ]
  },
  {
   "cell_type": "markdown",
   "metadata": {},
   "source": [
    "Vamos a verificar con el numero de factura si existen otras instancias de la misma compra que tengan el ID del cliente. Si se da esto podemos usar el ID de esa otra instancia en la que tiene ID nulo."
   ]
  },
  {
   "cell_type": "markdown",
   "metadata": {},
   "source": [
    "Aunque primero vamos a verificar que cada Invoice corresponda a un unico cliente."
   ]
  },
  {
   "cell_type": "code",
   "execution_count": 6,
   "metadata": {},
   "outputs": [
    {
     "data": {
      "text/plain": [
       "CustomerID\n",
       "1    22190\n",
       "Name: count, dtype: int64"
      ]
     },
     "execution_count": 6,
     "metadata": {},
     "output_type": "execute_result"
    }
   ],
   "source": [
    "retail_df.groupby('InvoiceNo')['CustomerID'].nunique().value_counts()"
   ]
  },
  {
   "cell_type": "markdown",
   "metadata": {},
   "source": [
    "Todas las facturas tienen unicamente un cliente. Por lo que procedemos a hacer el mapeo."
   ]
  },
  {
   "cell_type": "code",
   "execution_count": 7,
   "metadata": {},
   "outputs": [
    {
     "name": "stdout",
     "output_type": "stream",
     "text": [
      "Cantidad de transacciones sin CustomerID: 135080\n"
     ]
    }
   ],
   "source": [
    "invoice_to_customer = retail_df.groupby('InvoiceNo')['CustomerID'].first()\n",
    "null_client_df['CustomerID'] = null_client_df['InvoiceNo'].map(invoice_to_customer)\n",
    "print(f\"Cantidad de transacciones sin CustomerID: {null_client_df['CustomerID'].isnull().sum()}\")"
   ]
  },
  {
   "cell_type": "markdown",
   "metadata": {},
   "source": [
    "No hubo cambios por lo que directamente podemos dejar de tener en cuenta esas transacciones. Vamos a seguir trabajando con retail_df que no tiene las instancias de cliente nulo."
   ]
  },
  {
   "cell_type": "code",
   "execution_count": 8,
   "metadata": {},
   "outputs": [
    {
     "data": {
      "text/plain": [
       "InvoiceNo      0\n",
       "StockCode      0\n",
       "Description    0\n",
       "Quantity       0\n",
       "InvoiceDate    0\n",
       "UnitPrice      0\n",
       "CustomerID     0\n",
       "Country        0\n",
       "dtype: int64"
      ]
     },
     "execution_count": 8,
     "metadata": {},
     "output_type": "execute_result"
    }
   ],
   "source": [
    "retail_df.isnull().sum()"
   ]
  },
  {
   "cell_type": "markdown",
   "metadata": {},
   "source": [
    "Ademas con la eliminacion de esas instancias tambien se eliminaron los valores nulos en Description."
   ]
  },
  {
   "cell_type": "markdown",
   "metadata": {},
   "source": [
    "Podemos hacer algunas visualizaciones para ver la naturaleza de los datos."
   ]
  },
  {
   "cell_type": "code",
   "execution_count": 9,
   "metadata": {},
   "outputs": [
    {
     "data": {
      "image/png": "[encoded data removed]",
      "text/plain": [
       "<Figure size 640x480 with 1 Axes>"
      ]
     },
     "metadata": {},
     "output_type": "display_data"
    }
   ],
   "source": [
    "import seaborn as sns\n",
    "import matplotlib.pyplot as plt\n",
    "\n",
    "ax = sns.barplot(x='InvoiceNo', y='Country', data=retail_df.groupby('Country')['InvoiceNo'].nunique().reset_index())\n",
    "ax.set_title('Cantidad de transacciones por pais')\n",
    "ax.set_xlabel('Cantidad de transacciones')\n",
    "ax.set_ylabel('Pais')\n",
    "plt.show()"
   ]
  },
  {
   "cell_type": "markdown",
   "metadata": {},
   "source": [
    "Como era de esperar la mayoria de las compras son de Reino Unido, aunque le siguen paises como Alemania y Francia."
   ]
  },
  {
   "cell_type": "markdown",
   "metadata": {},
   "source": [
    "Vamos a ver como se distribuyen los datos de cantidad."
   ]
  },
  {
   "cell_type": "code",
   "execution_count": 11,
   "metadata": {},
   "outputs": [
    {
     "data": {
      "image/png": "[encoded data removed]",
      "text/plain": [
       "<Figure size 640x480 with 1 Axes>"
      ]
     },
     "metadata": {},
     "output_type": "display_data"
    }
   ],
   "source": [
    "sns.boxplot(retail_df['Quantity'])\n",
    "plt.show()"
   ]
  },
  {
   "cell_type": "markdown",
   "metadata": {},
   "source": [
    "Hay algo muy interesante, y es que hay casos en donde contamos con valores de cantidad negativos!"
   ]
  },
  {
   "cell_type": "code",
   "execution_count": 12,
   "metadata": {},
   "outputs": [
    {
     "data": {
      "text/html": [
       "<div>\n",
       "<style scoped>\n",
       "    .dataframe tbody tr th:only-of-type {\n",
       "        vertical-align: middle;\n",
       "    }\n",
       "\n",
       "    .dataframe tbody tr th {\n",
       "        vertical-align: top;\n",
       "    }\n",
       "\n",
       "    .dataframe thead th {\n",
       "        text-align: right;\n",
       "    }\n",
       "</style>\n",
       "<table border=\"1\" class=\"dataframe\">\n",
       "  <thead>\n",
       "    <tr style=\"text-align: right;\">\n",
       "      <th></th>\n",
       "      <th>InvoiceNo</th>\n",
       "      <th>StockCode</th>\n",
       "      <th>Description</th>\n",
       "      <th>Quantity</th>\n",
       "      <th>InvoiceDate</th>\n",
       "      <th>UnitPrice</th>\n",
       "      <th>CustomerID</th>\n",
       "      <th>Country</th>\n",
       "    </tr>\n",
       "  </thead>\n",
       "  <tbody>\n",
       "    <tr>\n",
       "      <th>141</th>\n",
       "      <td>C536379</td>\n",
       "      <td>D</td>\n",
       "      <td>Discount</td>\n",
       "      <td>-1</td>\n",
       "      <td>2010-12-01 09:41:00</td>\n",
       "      <td>27.50</td>\n",
       "      <td>14527.0</td>\n",
       "      <td>United Kingdom</td>\n",
       "    </tr>\n",
       "    <tr>\n",
       "      <th>154</th>\n",
       "      <td>C536383</td>\n",
       "      <td>35004C</td>\n",
       "      <td>SET OF 3 COLOURED  FLYING DUCKS</td>\n",
       "      <td>-1</td>\n",
       "      <td>2010-12-01 09:49:00</td>\n",
       "      <td>4.65</td>\n",
       "      <td>15311.0</td>\n",
       "      <td>United Kingdom</td>\n",
       "    </tr>\n",
       "    <tr>\n",
       "      <th>235</th>\n",
       "      <td>C536391</td>\n",
       "      <td>22556</td>\n",
       "      <td>PLASTERS IN TIN CIRCUS PARADE</td>\n",
       "      <td>-12</td>\n",
       "      <td>2010-12-01 10:24:00</td>\n",
       "      <td>1.65</td>\n",
       "      <td>17548.0</td>\n",
       "      <td>United Kingdom</td>\n",
       "    </tr>\n",
       "    <tr>\n",
       "      <th>236</th>\n",
       "      <td>C536391</td>\n",
       "      <td>21984</td>\n",
       "      <td>PACK OF 12 PINK PAISLEY TISSUES</td>\n",
       "      <td>-24</td>\n",
       "      <td>2010-12-01 10:24:00</td>\n",
       "      <td>0.29</td>\n",
       "      <td>17548.0</td>\n",
       "      <td>United Kingdom</td>\n",
       "    </tr>\n",
       "    <tr>\n",
       "      <th>237</th>\n",
       "      <td>C536391</td>\n",
       "      <td>21983</td>\n",
       "      <td>PACK OF 12 BLUE PAISLEY TISSUES</td>\n",
       "      <td>-24</td>\n",
       "      <td>2010-12-01 10:24:00</td>\n",
       "      <td>0.29</td>\n",
       "      <td>17548.0</td>\n",
       "      <td>United Kingdom</td>\n",
       "    </tr>\n",
       "  </tbody>\n",
       "</table>\n",
       "</div>"
      ],
      "text/plain": [
       "    InvoiceNo StockCode                       Description  Quantity  \\\n",
       "141   C536379         D                          Discount        -1   \n",
       "154   C536383    35004C   SET OF 3 COLOURED  FLYING DUCKS        -1   \n",
       "235   C536391     22556    PLASTERS IN TIN CIRCUS PARADE        -12   \n",
       "236   C536391     21984  PACK OF 12 PINK PAISLEY TISSUES        -24   \n",
       "237   C536391     21983  PACK OF 12 BLUE PAISLEY TISSUES        -24   \n",
       "\n",
       "            InvoiceDate  UnitPrice  CustomerID         Country  \n",
       "141 2010-12-01 09:41:00      27.50     14527.0  United Kingdom  \n",
       "154 2010-12-01 09:49:00       4.65     15311.0  United Kingdom  \n",
       "235 2010-12-01 10:24:00       1.65     17548.0  United Kingdom  \n",
       "236 2010-12-01 10:24:00       0.29     17548.0  United Kingdom  \n",
       "237 2010-12-01 10:24:00       0.29     17548.0  United Kingdom  "
      ]
     },
     "execution_count": 12,
     "metadata": {},
     "output_type": "execute_result"
    }
   ],
   "source": [
    "retail_df[retail_df['Quantity'] < 0].head()"
   ]
  },
  {
   "cell_type": "markdown",
   "metadata": {},
   "source": [
    "Como vemos estas instancias corresponden a devoluciones o cancelaciones. Sabemos esto porque el InvoiceNo comienza con la letra C. Vamos a eliminar del dataset todas estas instancias de devolucion que no nos sirven para el analisis de RFM."
   ]
  },
  {
   "cell_type": "code",
   "execution_count": 13,
   "metadata": {},
   "outputs": [],
   "source": [
    "retail_df = retail_df[retail_df['Quantity'] > 0]"
   ]
  },
  {
   "cell_type": "markdown",
   "metadata": {},
   "source": [
    "Y el boxplot ahora se ve asi:"
   ]
  },
  {
   "cell_type": "code",
   "execution_count": 14,
   "metadata": {},
   "outputs": [
    {
     "data": {
      "text/plain": [
       "<Axes: ylabel='Quantity'>"
      ]
     },
     "execution_count": 14,
     "metadata": {},
     "output_type": "execute_result"
    },
    {
     "data": {
      "image/png": "[encoded data removed]",
      "text/plain": [
       "<Figure size 640x480 with 1 Axes>"
      ]
     },
     "metadata": {},
     "output_type": "display_data"
    }
   ],
   "source": [
    "sns.boxplot(retail_df['Quantity'])"
   ]
  },
  {
   "cell_type": "markdown",
   "metadata": {},
   "source": [
    "Siguen llamando la atencion tres ventas muy por encima del resto. Estamos hablando de los outliers que se ven por arriba de 10000 unidades."
   ]
  },
  {
   "cell_type": "code",
   "execution_count": 15,
   "metadata": {},
   "outputs": [
    {
     "data": {
      "text/html": [
       "<div>\n",
       "<style scoped>\n",
       "    .dataframe tbody tr th:only-of-type {\n",
       "        vertical-align: middle;\n",
       "    }\n",
       "\n",
       "    .dataframe tbody tr th {\n",
       "        vertical-align: top;\n",
       "    }\n",
       "\n",
       "    .dataframe thead th {\n",
       "        text-align: right;\n",
       "    }\n",
       "</style>\n",
       "<table border=\"1\" class=\"dataframe\">\n",
       "  <thead>\n",
       "    <tr style=\"text-align: right;\">\n",
       "      <th></th>\n",
       "      <th>InvoiceNo</th>\n",
       "      <th>StockCode</th>\n",
       "      <th>Description</th>\n",
       "      <th>Quantity</th>\n",
       "      <th>InvoiceDate</th>\n",
       "      <th>UnitPrice</th>\n",
       "      <th>CustomerID</th>\n",
       "      <th>Country</th>\n",
       "    </tr>\n",
       "  </thead>\n",
       "  <tbody>\n",
       "    <tr>\n",
       "      <th>61619</th>\n",
       "      <td>541431</td>\n",
       "      <td>23166</td>\n",
       "      <td>MEDIUM CERAMIC TOP STORAGE JAR</td>\n",
       "      <td>74215</td>\n",
       "      <td>2011-01-18 10:01:00</td>\n",
       "      <td>1.04</td>\n",
       "      <td>12346.0</td>\n",
       "      <td>United Kingdom</td>\n",
       "    </tr>\n",
       "    <tr>\n",
       "      <th>502122</th>\n",
       "      <td>578841</td>\n",
       "      <td>84826</td>\n",
       "      <td>ASSTD DESIGN 3D PAPER STICKERS</td>\n",
       "      <td>12540</td>\n",
       "      <td>2011-11-25 15:57:00</td>\n",
       "      <td>0.00</td>\n",
       "      <td>13256.0</td>\n",
       "      <td>United Kingdom</td>\n",
       "    </tr>\n",
       "    <tr>\n",
       "      <th>540421</th>\n",
       "      <td>581483</td>\n",
       "      <td>23843</td>\n",
       "      <td>PAPER CRAFT , LITTLE BIRDIE</td>\n",
       "      <td>80995</td>\n",
       "      <td>2011-12-09 09:15:00</td>\n",
       "      <td>2.08</td>\n",
       "      <td>16446.0</td>\n",
       "      <td>United Kingdom</td>\n",
       "    </tr>\n",
       "  </tbody>\n",
       "</table>\n",
       "</div>"
      ],
      "text/plain": [
       "       InvoiceNo StockCode                     Description  Quantity  \\\n",
       "61619     541431     23166  MEDIUM CERAMIC TOP STORAGE JAR     74215   \n",
       "502122    578841     84826  ASSTD DESIGN 3D PAPER STICKERS     12540   \n",
       "540421    581483     23843     PAPER CRAFT , LITTLE BIRDIE     80995   \n",
       "\n",
       "               InvoiceDate  UnitPrice  CustomerID         Country  \n",
       "61619  2011-01-18 10:01:00       1.04     12346.0  United Kingdom  \n",
       "502122 2011-11-25 15:57:00       0.00     13256.0  United Kingdom  \n",
       "540421 2011-12-09 09:15:00       2.08     16446.0  United Kingdom  "
      ]
     },
     "execution_count": 15,
     "metadata": {},
     "output_type": "execute_result"
    }
   ],
   "source": [
    "retail_df[retail_df['Quantity'] > 10000].head()"
   ]
  },
  {
   "cell_type": "markdown",
   "metadata": {},
   "source": [
    "No vamos a mentir que el numero de unidades compradas parece extraño. Vamos a ver en total cuantas unidades de estos productos se vendieron."
   ]
  },
  {
   "cell_type": "code",
   "execution_count": 23,
   "metadata": {},
   "outputs": [
    {
     "name": "stdout",
     "output_type": "stream",
     "text": [
      "Cantidad total de unidades vendidas de cualquier producto: 5181696\n",
      "Cantidad total de unidades vendidas de MEDIUM CERAMIC TOP STORAGE JAR: 77916\n",
      "Cantidad total de unidades vendidas de ASSTD DESIGN 3D PAPER STICKERS: 13702\n",
      "Cantidad total de unidades vendidas de PAPER CRAFT , LITTLE BIRDIE: 80995\n"
     ]
    }
   ],
   "source": [
    "print(f'Cantidad total de unidades vendidas de cualquier producto: {retail_df[\"Quantity\"].sum()}')\n",
    "print(f'Cantidad total de unidades vendidas de MEDIUM CERAMIC TOP STORAGE JAR: {retail_df[retail_df[\"StockCode\"] == 23166].Quantity.sum()}')\n",
    "print(f'Cantidad total de unidades vendidas de ASSTD DESIGN 3D PAPER STICKERS: {retail_df[retail_df[\"StockCode\"] == 84826].Quantity.sum()}')\n",
    "print(f'Cantidad total de unidades vendidas de PAPER CRAFT , LITTLE BIRDIE: {retail_df[retail_df[\"StockCode\"] == 23843].Quantity.sum()}')"
   ]
  }
 ],
 "metadata": {
  "kernelspec": {
   "display_name": "clustering",
   "language": "python",
   "name": "python3"
  },
  "language_info": {
   "codemirror_mode": {
    "name": "ipython",
    "version": 3
   },
   "file_extension": ".py",
   "mimetype": "text/x-python",
   "name": "python",
   "nbconvert_exporter": "python",
   "pygments_lexer": "ipython3",
   "version": "3.11.13"
  }
 },
 "nbformat": 4,
 "nbformat_minor": 2
}
